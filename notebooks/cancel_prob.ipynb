{
 "cells": [
  {
   "cell_type": "code",
   "execution_count": 45,
   "metadata": {},
   "outputs": [],
   "source": [
    "import pandas as pd\n",
    "import os\n",
    "import seaborn as sns\n",
    "import numpy as np\n",
    "from pathlib import Path\n",
    "from sklearn.linear_model import LinearRegression, LogisticRegression\n",
    "from sklearn.metrics import mean_absolute_error, mean_squared_error\n",
    "from matplotlib import pyplot as plt\n",
    "sns.set_style('darkgrid')\n",
    "sns.set_context(\"notebook\", font_scale=1.5, rc={\"lines.linewidth\": 2.5, \"lines.markersize\": 10})\n",
    "os.chdir('/mnt/user-home/kddcup-2020')"
   ]
  },
  {
   "cell_type": "code",
   "execution_count": 38,
   "metadata": {},
   "outputs": [],
   "source": [
    "def rmse(y_true, y_pred):\n",
    "    return np.sqrt(mean_squared_error(y_true, y_pred))"
   ]
  },
  {
   "cell_type": "code",
   "execution_count": 11,
   "metadata": {},
   "outputs": [],
   "source": [
    "file_dir = 'data/total_order_cancellation_probability'\n",
    "cancel_prob_files = [f for f in os.listdir(file_dir) if f.endswith('_prob')]\n",
    "columns = ['order_id'] + [f'{200*x}_m_cancel_prob' for x in range(1, 11)]"
   ]
  },
  {
   "cell_type": "code",
   "execution_count": 14,
   "metadata": {},
   "outputs": [],
   "source": [
    "def read_cancel_probs_to_df():\n",
    "    dfs = (pd.read_csv(Path(file_dir, f), names=columns).assign(filename=f) for f in cancel_prob_files)\n",
    "    return pd.concat(dfs, ignore_index=True)"
   ]
  },
  {
   "cell_type": "code",
   "execution_count": 15,
   "metadata": {},
   "outputs": [],
   "source": [
    "frame = read_cancel_probs_to_df()"
   ]
  },
  {
   "cell_type": "code",
   "execution_count": 16,
   "metadata": {},
   "outputs": [
    {
     "data": {
      "text/html": [
       "<div>\n",
       "<style scoped>\n",
       "    .dataframe tbody tr th:only-of-type {\n",
       "        vertical-align: middle;\n",
       "    }\n",
       "\n",
       "    .dataframe tbody tr th {\n",
       "        vertical-align: top;\n",
       "    }\n",
       "\n",
       "    .dataframe thead th {\n",
       "        text-align: right;\n",
       "    }\n",
       "</style>\n",
       "<table border=\"1\" class=\"dataframe\">\n",
       "  <thead>\n",
       "    <tr style=\"text-align: right;\">\n",
       "      <th></th>\n",
       "      <th>order_id</th>\n",
       "      <th>200_m_cancel_prob</th>\n",
       "      <th>400_m_cancel_prob</th>\n",
       "      <th>600_m_cancel_prob</th>\n",
       "      <th>800_m_cancel_prob</th>\n",
       "      <th>1000_m_cancel_prob</th>\n",
       "      <th>1200_m_cancel_prob</th>\n",
       "      <th>1400_m_cancel_prob</th>\n",
       "      <th>1600_m_cancel_prob</th>\n",
       "      <th>1800_m_cancel_prob</th>\n",
       "      <th>2000_m_cancel_prob</th>\n",
       "      <th>filename</th>\n",
       "    </tr>\n",
       "  </thead>\n",
       "  <tbody>\n",
       "    <tr>\n",
       "      <th>0</th>\n",
       "      <td>9a6ccfd3bb8de8b0f0d37e1a8ee4ec6d</td>\n",
       "      <td>0.018040</td>\n",
       "      <td>0.021702</td>\n",
       "      <td>0.024320</td>\n",
       "      <td>0.034376</td>\n",
       "      <td>0.049099</td>\n",
       "      <td>0.071703</td>\n",
       "      <td>0.082755</td>\n",
       "      <td>0.095151</td>\n",
       "      <td>0.105233</td>\n",
       "      <td>0.112724</td>\n",
       "      <td>order_20161112_cancel_prob</td>\n",
       "    </tr>\n",
       "    <tr>\n",
       "      <th>1</th>\n",
       "      <td>ff1b51bfb17f0bae4a41b316eea59504</td>\n",
       "      <td>0.009087</td>\n",
       "      <td>0.009828</td>\n",
       "      <td>0.010600</td>\n",
       "      <td>0.018724</td>\n",
       "      <td>0.025588</td>\n",
       "      <td>0.034869</td>\n",
       "      <td>0.039791</td>\n",
       "      <td>0.043892</td>\n",
       "      <td>0.046897</td>\n",
       "      <td>0.054119</td>\n",
       "      <td>order_20161112_cancel_prob</td>\n",
       "    </tr>\n",
       "    <tr>\n",
       "      <th>2</th>\n",
       "      <td>0cb9a3bbb2f77863bcc293af446fe97d</td>\n",
       "      <td>0.007664</td>\n",
       "      <td>0.008261</td>\n",
       "      <td>0.009048</td>\n",
       "      <td>0.013591</td>\n",
       "      <td>0.016734</td>\n",
       "      <td>0.022055</td>\n",
       "      <td>0.025207</td>\n",
       "      <td>0.028880</td>\n",
       "      <td>0.031560</td>\n",
       "      <td>0.035530</td>\n",
       "      <td>order_20161112_cancel_prob</td>\n",
       "    </tr>\n",
       "    <tr>\n",
       "      <th>3</th>\n",
       "      <td>bcec3a48b0ae143a9a915decbc99f7b2</td>\n",
       "      <td>0.010963</td>\n",
       "      <td>0.009354</td>\n",
       "      <td>0.009980</td>\n",
       "      <td>0.018033</td>\n",
       "      <td>0.023757</td>\n",
       "      <td>0.039394</td>\n",
       "      <td>0.045599</td>\n",
       "      <td>0.055533</td>\n",
       "      <td>0.066521</td>\n",
       "      <td>0.084223</td>\n",
       "      <td>order_20161112_cancel_prob</td>\n",
       "    </tr>\n",
       "    <tr>\n",
       "      <th>4</th>\n",
       "      <td>00dba89d5e99d990f7fcac0150ab829e</td>\n",
       "      <td>0.304887</td>\n",
       "      <td>0.389517</td>\n",
       "      <td>0.455997</td>\n",
       "      <td>0.483952</td>\n",
       "      <td>0.530120</td>\n",
       "      <td>0.540859</td>\n",
       "      <td>0.590684</td>\n",
       "      <td>0.618337</td>\n",
       "      <td>0.756589</td>\n",
       "      <td>0.833906</td>\n",
       "      <td>order_20161112_cancel_prob</td>\n",
       "    </tr>\n",
       "  </tbody>\n",
       "</table>\n",
       "</div>"
      ],
      "text/plain": [
       "                           order_id  200_m_cancel_prob  400_m_cancel_prob  \\\n",
       "0  9a6ccfd3bb8de8b0f0d37e1a8ee4ec6d           0.018040           0.021702   \n",
       "1  ff1b51bfb17f0bae4a41b316eea59504           0.009087           0.009828   \n",
       "2  0cb9a3bbb2f77863bcc293af446fe97d           0.007664           0.008261   \n",
       "3  bcec3a48b0ae143a9a915decbc99f7b2           0.010963           0.009354   \n",
       "4  00dba89d5e99d990f7fcac0150ab829e           0.304887           0.389517   \n",
       "\n",
       "   600_m_cancel_prob  800_m_cancel_prob  1000_m_cancel_prob  \\\n",
       "0           0.024320           0.034376            0.049099   \n",
       "1           0.010600           0.018724            0.025588   \n",
       "2           0.009048           0.013591            0.016734   \n",
       "3           0.009980           0.018033            0.023757   \n",
       "4           0.455997           0.483952            0.530120   \n",
       "\n",
       "   1200_m_cancel_prob  1400_m_cancel_prob  1600_m_cancel_prob  \\\n",
       "0            0.071703            0.082755            0.095151   \n",
       "1            0.034869            0.039791            0.043892   \n",
       "2            0.022055            0.025207            0.028880   \n",
       "3            0.039394            0.045599            0.055533   \n",
       "4            0.540859            0.590684            0.618337   \n",
       "\n",
       "   1800_m_cancel_prob  2000_m_cancel_prob                    filename  \n",
       "0            0.105233            0.112724  order_20161112_cancel_prob  \n",
       "1            0.046897            0.054119  order_20161112_cancel_prob  \n",
       "2            0.031560            0.035530  order_20161112_cancel_prob  \n",
       "3            0.066521            0.084223  order_20161112_cancel_prob  \n",
       "4            0.756589            0.833906  order_20161112_cancel_prob  "
      ]
     },
     "execution_count": 16,
     "metadata": {},
     "output_type": "execute_result"
    }
   ],
   "source": [
    "frame.head()"
   ]
  },
  {
   "cell_type": "code",
   "execution_count": 18,
   "metadata": {},
   "outputs": [
    {
     "data": {
      "text/html": [
       "<div>\n",
       "<style scoped>\n",
       "    .dataframe tbody tr th:only-of-type {\n",
       "        vertical-align: middle;\n",
       "    }\n",
       "\n",
       "    .dataframe tbody tr th {\n",
       "        vertical-align: top;\n",
       "    }\n",
       "\n",
       "    .dataframe thead th {\n",
       "        text-align: right;\n",
       "    }\n",
       "</style>\n",
       "<table border=\"1\" class=\"dataframe\">\n",
       "  <thead>\n",
       "    <tr style=\"text-align: right;\">\n",
       "      <th></th>\n",
       "      <th>200_m_cancel_prob</th>\n",
       "      <th>400_m_cancel_prob</th>\n",
       "      <th>600_m_cancel_prob</th>\n",
       "      <th>800_m_cancel_prob</th>\n",
       "      <th>1000_m_cancel_prob</th>\n",
       "      <th>1200_m_cancel_prob</th>\n",
       "      <th>1400_m_cancel_prob</th>\n",
       "      <th>1600_m_cancel_prob</th>\n",
       "      <th>1800_m_cancel_prob</th>\n",
       "      <th>2000_m_cancel_prob</th>\n",
       "    </tr>\n",
       "  </thead>\n",
       "  <tbody>\n",
       "    <tr>\n",
       "      <th>count</th>\n",
       "      <td>7.065937e+06</td>\n",
       "      <td>7.065937e+06</td>\n",
       "      <td>7.065937e+06</td>\n",
       "      <td>7.065937e+06</td>\n",
       "      <td>7.065937e+06</td>\n",
       "      <td>7.065937e+06</td>\n",
       "      <td>7.065937e+06</td>\n",
       "      <td>7.065937e+06</td>\n",
       "      <td>7.065937e+06</td>\n",
       "      <td>7.065937e+06</td>\n",
       "    </tr>\n",
       "    <tr>\n",
       "      <th>mean</th>\n",
       "      <td>3.493870e-02</td>\n",
       "      <td>3.866776e-02</td>\n",
       "      <td>4.176073e-02</td>\n",
       "      <td>5.007157e-02</td>\n",
       "      <td>5.920863e-02</td>\n",
       "      <td>7.455933e-02</td>\n",
       "      <td>8.571890e-02</td>\n",
       "      <td>9.848048e-02</td>\n",
       "      <td>1.123070e-01</td>\n",
       "      <td>1.271732e-01</td>\n",
       "    </tr>\n",
       "    <tr>\n",
       "      <th>std</th>\n",
       "      <td>6.093480e-02</td>\n",
       "      <td>7.272500e-02</td>\n",
       "      <td>8.010853e-02</td>\n",
       "      <td>8.128915e-02</td>\n",
       "      <td>8.938623e-02</td>\n",
       "      <td>9.887756e-02</td>\n",
       "      <td>1.110656e-01</td>\n",
       "      <td>1.223765e-01</td>\n",
       "      <td>1.429795e-01</td>\n",
       "      <td>1.603257e-01</td>\n",
       "    </tr>\n",
       "    <tr>\n",
       "      <th>min</th>\n",
       "      <td>3.800000e-05</td>\n",
       "      <td>4.000000e-05</td>\n",
       "      <td>4.500000e-05</td>\n",
       "      <td>5.500000e-05</td>\n",
       "      <td>7.100000e-05</td>\n",
       "      <td>1.050000e-04</td>\n",
       "      <td>1.310000e-04</td>\n",
       "      <td>1.530000e-04</td>\n",
       "      <td>1.900000e-04</td>\n",
       "      <td>2.090000e-04</td>\n",
       "    </tr>\n",
       "    <tr>\n",
       "      <th>25%</th>\n",
       "      <td>1.001000e-02</td>\n",
       "      <td>9.226000e-03</td>\n",
       "      <td>9.502000e-03</td>\n",
       "      <td>1.678800e-02</td>\n",
       "      <td>2.229400e-02</td>\n",
       "      <td>3.182500e-02</td>\n",
       "      <td>3.675900e-02</td>\n",
       "      <td>4.313100e-02</td>\n",
       "      <td>4.745100e-02</td>\n",
       "      <td>5.332200e-02</td>\n",
       "    </tr>\n",
       "    <tr>\n",
       "      <th>50%</th>\n",
       "      <td>1.194800e-02</td>\n",
       "      <td>1.104800e-02</td>\n",
       "      <td>1.125000e-02</td>\n",
       "      <td>1.975500e-02</td>\n",
       "      <td>2.643200e-02</td>\n",
       "      <td>3.771500e-02</td>\n",
       "      <td>4.377000e-02</td>\n",
       "      <td>5.214800e-02</td>\n",
       "      <td>5.810200e-02</td>\n",
       "      <td>6.638600e-02</td>\n",
       "    </tr>\n",
       "    <tr>\n",
       "      <th>75%</th>\n",
       "      <td>1.673900e-02</td>\n",
       "      <td>1.655100e-02</td>\n",
       "      <td>1.727500e-02</td>\n",
       "      <td>2.655400e-02</td>\n",
       "      <td>3.520800e-02</td>\n",
       "      <td>4.931000e-02</td>\n",
       "      <td>5.738800e-02</td>\n",
       "      <td>6.813500e-02</td>\n",
       "      <td>7.626700e-02</td>\n",
       "      <td>8.954900e-02</td>\n",
       "    </tr>\n",
       "    <tr>\n",
       "      <th>max</th>\n",
       "      <td>8.304870e-01</td>\n",
       "      <td>8.328710e-01</td>\n",
       "      <td>8.361460e-01</td>\n",
       "      <td>8.270420e-01</td>\n",
       "      <td>8.268840e-01</td>\n",
       "      <td>8.143670e-01</td>\n",
       "      <td>8.073840e-01</td>\n",
       "      <td>8.490600e-01</td>\n",
       "      <td>8.904770e-01</td>\n",
       "      <td>9.106160e-01</td>\n",
       "    </tr>\n",
       "  </tbody>\n",
       "</table>\n",
       "</div>"
      ],
      "text/plain": [
       "       200_m_cancel_prob  400_m_cancel_prob  600_m_cancel_prob  \\\n",
       "count       7.065937e+06       7.065937e+06       7.065937e+06   \n",
       "mean        3.493870e-02       3.866776e-02       4.176073e-02   \n",
       "std         6.093480e-02       7.272500e-02       8.010853e-02   \n",
       "min         3.800000e-05       4.000000e-05       4.500000e-05   \n",
       "25%         1.001000e-02       9.226000e-03       9.502000e-03   \n",
       "50%         1.194800e-02       1.104800e-02       1.125000e-02   \n",
       "75%         1.673900e-02       1.655100e-02       1.727500e-02   \n",
       "max         8.304870e-01       8.328710e-01       8.361460e-01   \n",
       "\n",
       "       800_m_cancel_prob  1000_m_cancel_prob  1200_m_cancel_prob  \\\n",
       "count       7.065937e+06        7.065937e+06        7.065937e+06   \n",
       "mean        5.007157e-02        5.920863e-02        7.455933e-02   \n",
       "std         8.128915e-02        8.938623e-02        9.887756e-02   \n",
       "min         5.500000e-05        7.100000e-05        1.050000e-04   \n",
       "25%         1.678800e-02        2.229400e-02        3.182500e-02   \n",
       "50%         1.975500e-02        2.643200e-02        3.771500e-02   \n",
       "75%         2.655400e-02        3.520800e-02        4.931000e-02   \n",
       "max         8.270420e-01        8.268840e-01        8.143670e-01   \n",
       "\n",
       "       1400_m_cancel_prob  1600_m_cancel_prob  1800_m_cancel_prob  \\\n",
       "count        7.065937e+06        7.065937e+06        7.065937e+06   \n",
       "mean         8.571890e-02        9.848048e-02        1.123070e-01   \n",
       "std          1.110656e-01        1.223765e-01        1.429795e-01   \n",
       "min          1.310000e-04        1.530000e-04        1.900000e-04   \n",
       "25%          3.675900e-02        4.313100e-02        4.745100e-02   \n",
       "50%          4.377000e-02        5.214800e-02        5.810200e-02   \n",
       "75%          5.738800e-02        6.813500e-02        7.626700e-02   \n",
       "max          8.073840e-01        8.490600e-01        8.904770e-01   \n",
       "\n",
       "       2000_m_cancel_prob  \n",
       "count        7.065937e+06  \n",
       "mean         1.271732e-01  \n",
       "std          1.603257e-01  \n",
       "min          2.090000e-04  \n",
       "25%          5.332200e-02  \n",
       "50%          6.638600e-02  \n",
       "75%          8.954900e-02  \n",
       "max          9.106160e-01  "
      ]
     },
     "execution_count": 18,
     "metadata": {},
     "output_type": "execute_result"
    }
   ],
   "source": [
    "desc = frame.describe()\n",
    "desc"
   ]
  },
  {
   "cell_type": "code",
   "execution_count": 55,
   "metadata": {},
   "outputs": [
    {
     "data": {
      "text/html": [
       "<div>\n",
       "<style scoped>\n",
       "    .dataframe tbody tr th:only-of-type {\n",
       "        vertical-align: middle;\n",
       "    }\n",
       "\n",
       "    .dataframe tbody tr th {\n",
       "        vertical-align: top;\n",
       "    }\n",
       "\n",
       "    .dataframe thead th {\n",
       "        text-align: right;\n",
       "    }\n",
       "</style>\n",
       "<table border=\"1\" class=\"dataframe\">\n",
       "  <thead>\n",
       "    <tr style=\"text-align: right;\">\n",
       "      <th></th>\n",
       "      <th>distance</th>\n",
       "      <th>cancel_prob</th>\n",
       "    </tr>\n",
       "  </thead>\n",
       "  <tbody>\n",
       "    <tr>\n",
       "      <th>0</th>\n",
       "      <td>200</td>\n",
       "      <td>0.034939</td>\n",
       "    </tr>\n",
       "    <tr>\n",
       "      <th>1</th>\n",
       "      <td>400</td>\n",
       "      <td>0.038668</td>\n",
       "    </tr>\n",
       "    <tr>\n",
       "      <th>2</th>\n",
       "      <td>600</td>\n",
       "      <td>0.041761</td>\n",
       "    </tr>\n",
       "    <tr>\n",
       "      <th>3</th>\n",
       "      <td>800</td>\n",
       "      <td>0.050072</td>\n",
       "    </tr>\n",
       "    <tr>\n",
       "      <th>4</th>\n",
       "      <td>1000</td>\n",
       "      <td>0.059209</td>\n",
       "    </tr>\n",
       "    <tr>\n",
       "      <th>5</th>\n",
       "      <td>1200</td>\n",
       "      <td>0.074559</td>\n",
       "    </tr>\n",
       "    <tr>\n",
       "      <th>6</th>\n",
       "      <td>1400</td>\n",
       "      <td>0.085719</td>\n",
       "    </tr>\n",
       "    <tr>\n",
       "      <th>7</th>\n",
       "      <td>1600</td>\n",
       "      <td>0.098480</td>\n",
       "    </tr>\n",
       "    <tr>\n",
       "      <th>8</th>\n",
       "      <td>1800</td>\n",
       "      <td>0.112307</td>\n",
       "    </tr>\n",
       "    <tr>\n",
       "      <th>9</th>\n",
       "      <td>2000</td>\n",
       "      <td>0.127173</td>\n",
       "    </tr>\n",
       "  </tbody>\n",
       "</table>\n",
       "</div>"
      ],
      "text/plain": [
       "   distance  cancel_prob\n",
       "0       200     0.034939\n",
       "1       400     0.038668\n",
       "2       600     0.041761\n",
       "3       800     0.050072\n",
       "4      1000     0.059209\n",
       "5      1200     0.074559\n",
       "6      1400     0.085719\n",
       "7      1600     0.098480\n",
       "8      1800     0.112307\n",
       "9      2000     0.127173"
      ]
     },
     "execution_count": 55,
     "metadata": {},
     "output_type": "execute_result"
    }
   ],
   "source": [
    "mean_df = pd.DataFrame(data=[(200 * i, desc[f'{200 * i}_m_cancel_prob']['mean']) for i in range(1, 11)], columns=['distance', 'cancel_prob'])\n",
    "med_df = pd.DataFrame(data=[(200 * i, desc[f'{200 * i}_m_cancel_prob']['50%']) for i in range(1, 11)], columns=['distance', 'cancel_prob'])\n",
    "mean_df"
   ]
  },
  {
   "cell_type": "code",
   "execution_count": 23,
   "metadata": {},
   "outputs": [
    {
     "data": {
      "text/plain": [
       "<matplotlib.axes._subplots.AxesSubplot at 0x7f02dcb88dd8>"
      ]
     },
     "execution_count": 23,
     "metadata": {},
     "output_type": "execute_result"
    },
    {
     "data": {
      "image/png": "[encoded data removed]",
      "text/plain": [
       "<Figure size 432x288 with 1 Axes>"
      ]
     },
     "metadata": {},
     "output_type": "display_data"
    }
   ],
   "source": [
    "sns.lineplot(data=mean_df, x='distance', y='cancel_prob')"
   ]
  },
  {
   "cell_type": "code",
   "execution_count": 31,
   "metadata": {},
   "outputs": [],
   "source": [
    "def stack_probs(df):\n",
    "    stacked = df[[f'{200*x}_m_cancel_prob' for x in range(1, 11)]].stack().reset_index()\n",
    "    stacked['distance'] = stacked['level_1'].apply(lambda s: s[:s.find('_m')])\n",
    "    stacked['cancel_prob'] = stacked[0]\n",
    "    return stacked[['distance', 'cancel_prob']].copy()\n",
    "stacked = stack_probs(frame)"
   ]
  },
  {
   "cell_type": "code",
   "execution_count": 35,
   "metadata": {},
   "outputs": [
    {
     "data": {
      "text/plain": [
       "(70659370, 2)"
      ]
     },
     "execution_count": 35,
     "metadata": {},
     "output_type": "execute_result"
    }
   ],
   "source": [
    "stacked.shape"
   ]
  },
  {
   "cell_type": "code",
   "execution_count": 68,
   "metadata": {},
   "outputs": [
    {
     "data": {
      "text/plain": [
       "LogitRegression()"
      ]
     },
     "execution_count": 68,
     "metadata": {},
     "output_type": "execute_result"
    }
   ],
   "source": [
    "class LogitRegression(LinearRegression):\n",
    "    \n",
    "    def __init__(self, **kwargs):\n",
    "        super().__init__(**kwargs)\n",
    "\n",
    "    def fit(self, x, p):\n",
    "        p = np.asarray(p)\n",
    "        y = np.log(p / (1 - p))\n",
    "        return super().fit(x, y)\n",
    "\n",
    "    def predict(self, x):\n",
    "        y = super().predict(x)\n",
    "        return 1 / (np.exp(-y) + 1)\n",
    "\n",
    "log_r = LogitRegression()\n",
    "log_r.fit(stacked[['distance']], stacked[['cancel_prob']])"
   ]
  },
  {
   "cell_type": "code",
   "execution_count": 69,
   "metadata": {},
   "outputs": [],
   "source": [
    "stacked['pred'] = log_r.predict(stacked[['distance']])"
   ]
  },
  {
   "cell_type": "code",
   "execution_count": 70,
   "metadata": {},
   "outputs": [
    {
     "data": {
      "text/plain": [
       "0.10964887573934771"
      ]
     },
     "execution_count": 70,
     "metadata": {},
     "output_type": "execute_result"
    }
   ],
   "source": [
    "rmse(stacked['cancel_prob'], stacked['pred'])"
   ]
  },
  {
   "cell_type": "code",
   "execution_count": 78,
   "metadata": {},
   "outputs": [
    {
     "data": {
      "text/plain": [
       "<matplotlib.axes._subplots.AxesSubplot at 0x7f02db8e7320>"
      ]
     },
     "execution_count": 78,
     "metadata": {},
     "output_type": "execute_result"
    },
    {
     "data": {
      "image/png": "[encoded data removed]",
      "text/plain": [
       "<Figure size 864x864 with 1 Axes>"
      ]
     },
     "metadata": {},
     "output_type": "display_data"
    }
   ],
   "source": [
    "distances = np.arange(0, 2100, 100)\n",
    "fig, ax = plt.subplots()\n",
    "fig.set_size_inches(12, 12)\n",
    "sns.lineplot(data=mean_df, x='distance', y='cancel_prob', ax=ax, color='red')\n",
    "sns.lineplot(data=med_df, x='distance', y='cancel_prob', ax=ax, color='blue')\n",
    "sns.lineplot(x=distances, y=log_r.predict(distances.reshape(-1, 1))[:, 0] + 0.02, color='green')"
   ]
  },
  {
   "cell_type": "code",
   "execution_count": 72,
   "metadata": {},
   "outputs": [
    {
     "data": {
      "text/plain": [
       "(array([[0.00109042]]), array([-4.39349586]))"
      ]
     },
     "execution_count": 72,
     "metadata": {},
     "output_type": "execute_result"
    }
   ],
   "source": [
    "log_r.coef_, log_r.intercept_"
   ]
  },
  {
   "cell_type": "code",
   "execution_count": 73,
   "metadata": {},
   "outputs": [
    {
     "data": {
      "text/html": [
       "<div>\n",
       "<style scoped>\n",
       "    .dataframe tbody tr th:only-of-type {\n",
       "        vertical-align: middle;\n",
       "    }\n",
       "\n",
       "    .dataframe tbody tr th {\n",
       "        vertical-align: top;\n",
       "    }\n",
       "\n",
       "    .dataframe thead th {\n",
       "        text-align: right;\n",
       "    }\n",
       "</style>\n",
       "<table border=\"1\" class=\"dataframe\">\n",
       "  <thead>\n",
       "    <tr style=\"text-align: right;\">\n",
       "      <th></th>\n",
       "      <th>distance</th>\n",
       "      <th>cancel_prob</th>\n",
       "      <th>pred</th>\n",
       "    </tr>\n",
       "  </thead>\n",
       "  <tbody>\n",
       "    <tr>\n",
       "      <th>0</th>\n",
       "      <td>200</td>\n",
       "      <td>0.018040</td>\n",
       "      <td>0.015136</td>\n",
       "    </tr>\n",
       "    <tr>\n",
       "      <th>1</th>\n",
       "      <td>400</td>\n",
       "      <td>0.021702</td>\n",
       "      <td>0.018756</td>\n",
       "    </tr>\n",
       "    <tr>\n",
       "      <th>2</th>\n",
       "      <td>600</td>\n",
       "      <td>0.024320</td>\n",
       "      <td>0.023220</td>\n",
       "    </tr>\n",
       "    <tr>\n",
       "      <th>3</th>\n",
       "      <td>800</td>\n",
       "      <td>0.034376</td>\n",
       "      <td>0.028716</td>\n",
       "    </tr>\n",
       "    <tr>\n",
       "      <th>4</th>\n",
       "      <td>1000</td>\n",
       "      <td>0.049099</td>\n",
       "      <td>0.035466</td>\n",
       "    </tr>\n",
       "    <tr>\n",
       "      <th>5</th>\n",
       "      <td>1200</td>\n",
       "      <td>0.071703</td>\n",
       "      <td>0.043731</td>\n",
       "    </tr>\n",
       "    <tr>\n",
       "      <th>6</th>\n",
       "      <td>1400</td>\n",
       "      <td>0.082755</td>\n",
       "      <td>0.053814</td>\n",
       "    </tr>\n",
       "    <tr>\n",
       "      <th>7</th>\n",
       "      <td>1600</td>\n",
       "      <td>0.095151</td>\n",
       "      <td>0.066062</td>\n",
       "    </tr>\n",
       "    <tr>\n",
       "      <th>8</th>\n",
       "      <td>1800</td>\n",
       "      <td>0.105233</td>\n",
       "      <td>0.080858</td>\n",
       "    </tr>\n",
       "    <tr>\n",
       "      <th>9</th>\n",
       "      <td>2000</td>\n",
       "      <td>0.112724</td>\n",
       "      <td>0.098620</td>\n",
       "    </tr>\n",
       "  </tbody>\n",
       "</table>\n",
       "</div>"
      ],
      "text/plain": [
       "  distance  cancel_prob      pred\n",
       "0      200     0.018040  0.015136\n",
       "1      400     0.021702  0.018756\n",
       "2      600     0.024320  0.023220\n",
       "3      800     0.034376  0.028716\n",
       "4     1000     0.049099  0.035466\n",
       "5     1200     0.071703  0.043731\n",
       "6     1400     0.082755  0.053814\n",
       "7     1600     0.095151  0.066062\n",
       "8     1800     0.105233  0.080858\n",
       "9     2000     0.112724  0.098620"
      ]
     },
     "execution_count": 73,
     "metadata": {},
     "output_type": "execute_result"
    }
   ],
   "source": [
    "stacked.head(10)"
   ]
  },
  {
   "cell_type": "code",
   "execution_count": 79,
   "metadata": {},
   "outputs": [
    {
     "data": {
      "text/plain": [
       "0.03513623386518351"
      ]
     },
     "execution_count": 79,
     "metadata": {},
     "output_type": "execute_result"
    }
   ],
   "source": [
    "1 / (np.exp(4.39349586 - 0.00109042 * 200) + 1) + 0.02"
   ]
  },
  {
   "cell_type": "code",
   "execution_count": null,
   "metadata": {},
   "outputs": [],
   "source": []
  }
 ],
 "metadata": {
  "kernelspec": {
   "display_name": "Python 3",
   "language": "python",
   "name": "python3"
  },
  "language_info": {
   "codemirror_mode": {
    "name": "ipython",
    "version": 3
   },
   "file_extension": ".py",
   "mimetype": "text/x-python",
   "name": "python",
   "nbconvert_exporter": "python",
   "pygments_lexer": "ipython3",
   "version": "3.6.9"
  }
 },
 "nbformat": 4,
 "nbformat_minor": 4
}
